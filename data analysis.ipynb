{
 "cells": [
  {
   "cell_type": "markdown",
   "source": [
    "# 데이터 분석"
   ],
   "metadata": {
    "collapsed": false
   },
   "id": "e54cf9d30643c46a"
  },
  {
   "cell_type": "code",
   "execution_count": 2,
   "id": "initial_id",
   "metadata": {
    "collapsed": true,
    "ExecuteTime": {
     "end_time": "2023-12-03T05:05:12.978664Z",
     "start_time": "2023-12-03T05:05:10.294629Z"
    }
   },
   "outputs": [],
   "source": [
    "import pandas as pd \n",
    "import numpy as np\n",
    "from copy import copy\n",
    "from sklearn import preprocessing"
   ]
  },
  {
   "cell_type": "markdown",
   "source": [
    "## Data load \n",
    " - 'dnt' : 날짜"
   ],
   "metadata": {
    "collapsed": false
   },
   "id": "8f587178187ea18d"
  },
  {
   "cell_type": "code",
   "execution_count": 3,
   "outputs": [],
   "source": [
    "# 데이터를 로드 합니다.\n",
    "df = pd.read_csv('./pu_batt_sample10.csv')"
   ],
   "metadata": {
    "collapsed": false,
    "ExecuteTime": {
     "end_time": "2023-12-03T05:05:22.901743Z",
     "start_time": "2023-12-03T05:05:12.979807Z"
    }
   },
   "id": "71fd7c084111bc66"
  },
  {
   "cell_type": "markdown",
   "source": [
    "## 사용 Column 추출"
   ],
   "metadata": {
    "collapsed": false
   },
   "id": "478b2b3ceb42ee6f"
  },
  {
   "cell_type": "code",
   "execution_count": 4,
   "outputs": [],
   "source": [
    "# 사용할 columns 을 나열합니다.\n",
    "cols = ['cell_01', 'cell_02', 'cell_03', 'cell_04', 'cell_05', 'cell_06', 'cell_07', 'cell_08', 'cell_09', 'cell_10',\n",
    "        'cell_11', 'cell_12', 'cell_13', 'cell_14', 'cell_15', 'cell_16', 'cell_17', 'cell_18', 'cell_19', 'cell_20',\n",
    "        'cell_21', 'cell_22', 'cell_23', 'cell_24', 'cell_25', 'cell_26', 'cell_27', 'cell_28', 'cell_29', 'cell_30',\n",
    "        'cell_31', 'cell_32', 'cell_33', 'cell_34', 'cell_35', 'cell_36', 'cell_37', 'cell_38', 'cell_39', 'cell_40',\n",
    "        'cell_41', 'cell_42', 'cell_43', 'cell_44', 'cell_45', 'cell_46', 'cell_47', 'cell_48', 'cell_49', 'cell_50',\n",
    "        'cell_51', 'cell_52', 'cell_53', 'cell_54', 'cell_55', 'cell_56', 'cell_57', 'cell_58', 'cell_59', 'cell_60',\n",
    "        'cell_61', 'cell_62', 'cell_63', 'cell_64', 'cell_65', 'cell_66', 'cell_67', 'cell_68', 'cell_69', 'cell_70',\n",
    "        'cell_71', 'cell_72', 'cell_73', 'cell_74', 'cell_75', 'cell_76', 'cell_77', 'cell_78', 'cell_79', 'cell_80',\n",
    "        'cell_81', 'cell_82', 'cell_83', 'cell_84', 'cell_85', 'cell_86', 'cell_87', 'cell_88', 'cell_89', 'cell_90',\n",
    "        'msr_data.ibm', 'msr_data.r_isol', 'msr_data.vb_max', 'msr_data.vb_min', 'msr_tbmax_raw', 'msr_tbmin_raw',\n",
    "        'SOC', 'CF_OBC_DCChargingStat', 'chg_charging_now', 'drv_cyc']\n",
    "date_col = ['dnt']"
   ],
   "metadata": {
    "collapsed": false,
    "ExecuteTime": {
     "end_time": "2023-12-03T05:05:22.906268Z",
     "start_time": "2023-12-03T05:05:22.902465Z"
    }
   },
   "id": "5523f40c21a50840"
  },
  {
   "cell_type": "code",
   "execution_count": 5,
   "outputs": [],
   "source": [
    "# 사용할 column 만 추출합니다. \n",
    "target_df = df.loc[:, cols]\n",
    "target_df.head(1)\n",
    "\n",
    "# 날짜 정보 추출합니다.\n",
    "date_df = df.loc[:, date_col]\n",
    "sorted_date_df = date_df.sort_values(by='dnt', ascending=True)"
   ],
   "metadata": {
    "collapsed": false,
    "ExecuteTime": {
     "end_time": "2023-12-03T05:05:23.622199Z",
     "start_time": "2023-12-03T05:05:23.191272Z"
    }
   },
   "id": "1aa1e32ed6aabb75"
  },
  {
   "cell_type": "markdown",
   "source": [
    "## Sort by date"
   ],
   "metadata": {
    "collapsed": false
   },
   "id": "c1435e54b8565394"
  },
  {
   "cell_type": "code",
   "execution_count": 6,
   "outputs": [],
   "source": [
    "sorted_date_df = date_df.sort_values(by='dnt', ascending=True)"
   ],
   "metadata": {
    "collapsed": false,
    "ExecuteTime": {
     "end_time": "2023-12-03T05:05:24.056131Z",
     "start_time": "2023-12-03T05:05:23.641763Z"
    }
   },
   "id": "a73d46354ba0d94f"
  },
  {
   "cell_type": "code",
   "execution_count": 7,
   "outputs": [],
   "source": [
    "# DataFrame이 시계열 순서대로(오름차순) 나열되어 있는지 검증합니다.\n",
    "index = sorted_date_df.index.values\n",
    "offset = np.roll(index, 1)\n",
    "offset[0] = -1 \n",
    "assert np.all(index - offset == 1)  "
   ],
   "metadata": {
    "collapsed": false,
    "ExecuteTime": {
     "end_time": "2023-12-03T05:05:24.065570Z",
     "start_time": "2023-12-03T05:05:24.058506Z"
    }
   },
   "id": "4adf67d46990acca"
  },
  {
   "cell_type": "markdown",
   "source": [
    "## Normalize"
   ],
   "metadata": {
    "collapsed": false
   },
   "id": "6ce59eda2393bc82"
  },
  {
   "cell_type": "code",
   "execution_count": 8,
   "outputs": [],
   "source": [
    "# 각 열(column) 별 Min Max Scaler 을 생성하고 Min Max 가 적용된 데이터를 추출합니다.\n",
    "scalers = []\n",
    "norm_target_df = copy(target_df)\n",
    "for index in range(len(target_df.columns)):\n",
    "        # Min Max scaler 을 생성합니다.\n",
    "        target_col = target_df.iloc[:, index:index + 1]\n",
    "        scaler = preprocessing.MinMaxScaler().fit(target_col)\n",
    "        scalers.append(scaler)\n",
    "        \n",
    "        # 생성된 Min Max Scaler 을 활용해서 데이터을 정규화 합니다.\n",
    "        norm_target_df.iloc[:, index:index + 1] = scaler.transform(target_col)\n",
    "        "
   ],
   "metadata": {
    "collapsed": false,
    "ExecuteTime": {
     "end_time": "2023-12-03T05:05:25.291999Z",
     "start_time": "2023-12-03T05:05:24.068647Z"
    }
   },
   "id": "91ee401b54d9a10d"
  },
  {
   "cell_type": "code",
   "execution_count": 9,
   "outputs": [
    {
     "data": {
      "text/plain": "    cell_01   cell_02   cell_03   cell_04   cell_05  cell_06   cell_07  \\\n0  0.518468  0.513774  0.514364  0.512363  0.516438  0.51026  0.515732   \n\n    cell_08   cell_09   cell_10  ...  msr_data.ibm  msr_data.r_isol  \\\n0  0.515818  0.517711  0.517857  ...      0.404901              1.0   \n\n   msr_data.vb_max  msr_data.vb_min  msr_tbmax_raw  msr_tbmin_raw       SOC  \\\n0         0.514443         0.512996        0.37931       0.358974  0.524671   \n\n   CF_OBC_DCChargingStat  chg_charging_now  drv_cyc  \n0                      0                 0      0.0  \n\n[1 rows x 100 columns]",
      "text/html": "<div>\n<style scoped>\n    .dataframe tbody tr th:only-of-type {\n        vertical-align: middle;\n    }\n\n    .dataframe tbody tr th {\n        vertical-align: top;\n    }\n\n    .dataframe thead th {\n        text-align: right;\n    }\n</style>\n<table border=\"1\" class=\"dataframe\">\n  <thead>\n    <tr style=\"text-align: right;\">\n      <th></th>\n      <th>cell_01</th>\n      <th>cell_02</th>\n      <th>cell_03</th>\n      <th>cell_04</th>\n      <th>cell_05</th>\n      <th>cell_06</th>\n      <th>cell_07</th>\n      <th>cell_08</th>\n      <th>cell_09</th>\n      <th>cell_10</th>\n      <th>...</th>\n      <th>msr_data.ibm</th>\n      <th>msr_data.r_isol</th>\n      <th>msr_data.vb_max</th>\n      <th>msr_data.vb_min</th>\n      <th>msr_tbmax_raw</th>\n      <th>msr_tbmin_raw</th>\n      <th>SOC</th>\n      <th>CF_OBC_DCChargingStat</th>\n      <th>chg_charging_now</th>\n      <th>drv_cyc</th>\n    </tr>\n  </thead>\n  <tbody>\n    <tr>\n      <th>0</th>\n      <td>0.518468</td>\n      <td>0.513774</td>\n      <td>0.514364</td>\n      <td>0.512363</td>\n      <td>0.516438</td>\n      <td>0.51026</td>\n      <td>0.515732</td>\n      <td>0.515818</td>\n      <td>0.517711</td>\n      <td>0.517857</td>\n      <td>...</td>\n      <td>0.404901</td>\n      <td>1.0</td>\n      <td>0.514443</td>\n      <td>0.512996</td>\n      <td>0.37931</td>\n      <td>0.358974</td>\n      <td>0.524671</td>\n      <td>0</td>\n      <td>0</td>\n      <td>0.0</td>\n    </tr>\n  </tbody>\n</table>\n<p>1 rows × 100 columns</p>\n</div>"
     },
     "execution_count": 9,
     "metadata": {},
     "output_type": "execute_result"
    }
   ],
   "source": [
    "norm_target_df.head(1)"
   ],
   "metadata": {
    "collapsed": false,
    "ExecuteTime": {
     "end_time": "2023-12-03T05:05:25.312498Z",
     "start_time": "2023-12-03T05:05:25.297180Z"
    }
   },
   "id": "28790dd45e037c39"
  }
 ],
 "metadata": {
  "kernelspec": {
   "display_name": "Python 3",
   "language": "python",
   "name": "python3"
  },
  "language_info": {
   "codemirror_mode": {
    "name": "ipython",
    "version": 2
   },
   "file_extension": ".py",
   "mimetype": "text/x-python",
   "name": "python",
   "nbconvert_exporter": "python",
   "pygments_lexer": "ipython2",
   "version": "2.7.6"
  }
 },
 "nbformat": 4,
 "nbformat_minor": 5
}
